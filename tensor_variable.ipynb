{
 "cells": [
  {
   "cell_type": "markdown",
   "metadata": {},
   "source": [
    "## Basics"
   ]
  },
  {
   "cell_type": "markdown",
   "metadata": {},
   "source": [
    "Tensors = multi-dimensional arrays(ordered arrangement of numbers). \n",
    "\n",
    "single number = 0-D. for eg: 9. this has no shape\n",
    "1 row of numbers or several 0-D tensor = 1-D for eg: [1,2,4]. this has shape (4,)\n",
    "\n",
    "made of several 1-D tensor = 2-D for: [[2, 4, 3],\n",
    "                                      [5, 6, 7]]\n",
    "this has shape (2,3)\n",
    "\n",
    "combine several 2-D tensor= 3-D tensor. for eg:[[[2, 4, 3],\n",
    "                                                [5, 6, 7]],\n",
    "                                                [[2, 4, 3],\n",
    "                                                [5, 6, 7]]]\n",
    "This has shape (2,2,3)"
   ]
  },
  {
   "cell_type": "code",
   "execution_count": 1,
   "metadata": {},
   "outputs": [
    {
     "name": "stdout",
     "output_type": "stream",
     "text": [
      "tf.Tensor(4, shape=(), dtype=int32)\n"
     ]
    }
   ],
   "source": [
    "import tensorflow as tf\n",
    "tensor_zero=tf.constant(4)\n",
    "print(tensor_zero)"
   ]
  },
  {
   "cell_type": "code",
   "execution_count": 2,
   "metadata": {},
   "outputs": [
    {
     "name": "stdout",
     "output_type": "stream",
     "text": [
      "tf.Tensor([4 2], shape=(2,), dtype=int32)\n"
     ]
    }
   ],
   "source": [
    "tensor_one=tf.constant([4,2])\n",
    "print(tensor_one)"
   ]
  },
  {
   "cell_type": "code",
   "execution_count": 3,
   "metadata": {},
   "outputs": [
    {
     "name": "stdout",
     "output_type": "stream",
     "text": [
      "tf.Tensor(\n",
      "[[4 2]\n",
      " [3 5]], shape=(2, 2), dtype=int32)\n"
     ]
    }
   ],
   "source": [
    "tensor_two=tf.constant([[4,2],[3,5]])\n",
    "print(tensor_two)"
   ]
  },
  {
   "cell_type": "code",
   "execution_count": 4,
   "metadata": {},
   "outputs": [
    {
     "name": "stdout",
     "output_type": "stream",
     "text": [
      "tf.Tensor(\n",
      "[[[4 2]]\n",
      "\n",
      " [[3 5]]], shape=(2, 1, 2), dtype=int32)\n"
     ]
    }
   ],
   "source": [
    "tensor_three=tf.constant([[[4,2]],[[3,5]]])\n",
    "print(tensor_three)"
   ]
  },
  {
   "cell_type": "code",
   "execution_count": 2,
   "metadata": {},
   "outputs": [
    {
     "name": "stdout",
     "output_type": "stream",
     "text": [
      "tf.Tensor([ 2.  0. -3.  8.], shape=(4,), dtype=float32)\n",
      "tf.Tensor([ 2  0 -3  8], shape=(4,), dtype=int16)\n"
     ]
    }
   ],
   "source": [
    "tensor_float= tf.constant([2,0.,-3,8], dtype=tf.float32)\n",
    "casted_tensor_int = tf.cast(tensor_float, dtype=tf.int16) # tf.cast change datatype\n",
    "print(tensor_float)\n",
    "print(casted_tensor_int)"
   ]
  },
  {
   "cell_type": "code",
   "execution_count": 3,
   "metadata": {},
   "outputs": [
    {
     "name": "stdout",
     "output_type": "stream",
     "text": [
      "tf.Tensor([1 2 3], shape=(3,), dtype=int64)\n"
     ]
    }
   ],
   "source": [
    "# convert numpy array to tensor\n",
    "import numpy as np\n",
    "np_array = np.array([1,2,3])\n",
    "converted_tensor = tf.convert_to_tensor(np_array)\n",
    "print(converted_tensor)"
   ]
  },
  {
   "cell_type": "code",
   "execution_count": 5,
   "metadata": {},
   "outputs": [
    {
     "name": "stdout",
     "output_type": "stream",
     "text": [
      "tf.Tensor(\n",
      "[[1. 0. 0. 0.]\n",
      " [0. 1. 0. 0.]\n",
      " [0. 0. 1. 0.]], shape=(3, 4), dtype=float32)\n"
     ]
    }
   ],
   "source": [
    "#eye method = construct an identity matrix or a batch of matrices\n",
    "eye_tensor = tf.eye(\n",
    "    num_rows=3,\n",
    "    num_columns=4,\n",
    "    batch_shape=None,\n",
    "    dtype=tf.dtypes.float32,\n",
    "    name=None\n",
    ")\n",
    "print(eye_tensor)"
   ]
  },
  {
   "cell_type": "code",
   "execution_count": 7,
   "metadata": {},
   "outputs": [
    {
     "name": "stdout",
     "output_type": "stream",
     "text": [
      "tf.Tensor(\n",
      "[[5 5 5 5]\n",
      " [5 5 5 5]\n",
      " [5 5 5 5]], shape=(3, 4), dtype=int32)\n"
     ]
    }
   ],
   "source": [
    "#fill method= create a tensor filled with a scalar value\n",
    "#tf.fill(dims, value, name=None)\n",
    "\n",
    "fill_tensor =tf.fill(\n",
    "    [3,4],5, name=None\n",
    ")\n",
    "\n",
    "print(fill_tensor)"
   ]
  },
  {
   "cell_type": "code",
   "execution_count": 8,
   "metadata": {},
   "outputs": [
    {
     "name": "stdout",
     "output_type": "stream",
     "text": [
      "tf.Tensor(\n",
      "[[1. 1. 1.]\n",
      " [1. 1. 1.]\n",
      " [1. 1. 1.]\n",
      " [1. 1. 1.]\n",
      " [1. 1. 1.]], shape=(5, 3), dtype=float32)\n"
     ]
    }
   ],
   "source": [
    "#ones method= creates a tensor with all elements set to one\n",
    "#tf.ones(shape, dtype= tf.dtypes.float32, namee=None)\n",
    "one_tensor = tf.ones(\n",
    "    [5,3],\n",
    "    dtype=tf.dtypes.float32,\n",
    "    name=None\n",
    ")\n",
    "\n",
    "print(one_tensor)"
   ]
  },
  {
   "cell_type": "code",
   "execution_count": 10,
   "metadata": {},
   "outputs": [
    {
     "name": "stdout",
     "output_type": "stream",
     "text": [
      "tf.Tensor(\n",
      "[[5 5 5 5]\n",
      " [5 5 5 5]\n",
      " [5 5 5 5]], shape=(3, 4), dtype=int32)\n",
      "tf.Tensor(\n",
      "[[1 1 1 1]\n",
      " [1 1 1 1]\n",
      " [1 1 1 1]], shape=(3, 4), dtype=int32)\n"
     ]
    }
   ],
   "source": [
    "#ones_like method= create a tensor of all ones that has the same shape as the input\n",
    "#tf.ones_like(input, dtype=None, name=None)\n",
    "ones_like_tensor=tf.ones_like(fill_tensor)\n",
    "print(fill_tensor)\n",
    "print(ones_like_tensor)"
   ]
  },
  {
   "cell_type": "code",
   "execution_count": 3,
   "metadata": {},
   "outputs": [
    {
     "name": "stdout",
     "output_type": "stream",
     "text": [
      "tf.Tensor(\n",
      "[[0. 0. 0.]\n",
      " [0. 0. 0.]\n",
      " [0. 0. 0.]\n",
      " [0. 0. 0.]\n",
      " [0. 0. 0.]], shape=(5, 3), dtype=float32)\n"
     ]
    }
   ],
   "source": [
    "# zeros = create a tensor with all elements set to zero\n",
    "zero_tensor= tf.zeros(\n",
    "    [5,3],\n",
    "    dtype=tf.dtypes.float32,\n",
    "    name=None\n",
    ")\n",
    "\n",
    "print(zero_tensor)"
   ]
  },
  {
   "cell_type": "code",
   "execution_count": 14,
   "metadata": {},
   "outputs": [
    {
     "name": "stdout",
     "output_type": "stream",
     "text": [
      "tf.Tensor([5 3], shape=(2,), dtype=int32)\n"
     ]
    }
   ],
   "source": [
    "#shape = returns a tensoe conatining the shape of the input tensor\n",
    "shape_tensor = tf.shape(\n",
    "    zero_tensor,\n",
    "    out_type=tf.int32\n",
    ")\n",
    "print(shape_tensor)"
   ]
  },
  {
   "cell_type": "code",
   "execution_count": 16,
   "metadata": {},
   "outputs": [
    {
     "name": "stdout",
     "output_type": "stream",
     "text": [
      "tf.Tensor(15.0, shape=(), dtype=float32)\n"
     ]
    }
   ],
   "source": [
    "size_tensor= tf.size(\n",
    "    zero_tensor,\n",
    "    out_type=tf.float32\n",
    ")\n",
    "print(size_tensor)"
   ]
  },
  {
   "cell_type": "code",
   "execution_count": null,
   "metadata": {},
   "outputs": [
    {
     "name": "stdout",
     "output_type": "stream",
     "text": [
      "tf.Tensor(\n",
      "[[ 4621.3506   2729.938  ]\n",
      " [ 2333.6624   2705.2656 ]\n",
      " [-1687.2905    170.59027]], shape=(3, 2), dtype=float32)\n"
     ]
    }
   ],
   "source": [
    "#random.normal = outputs random values from a normal distribution\n",
    "random_tensor = tf.random.normal(\n",
    "    shape=[3,2],\n",
    "    mean=1111.0,\n",
    "    stddev=2221.0,\n",
    "    dtype=tf.dtypes.float32,\n",
    "    seed=None,\n",
    "    name=None\n",
    ")\n",
    "print(random_tensor)"
   ]
  },
  {
   "cell_type": "code",
   "execution_count": 31,
   "metadata": {},
   "outputs": [
    {
     "name": "stdout",
     "output_type": "stream",
     "text": [
      "tf.Tensor([0.721082   0.16421127 0.0344758  0.6312306  0.05017233], shape=(5,), dtype=float32)\n"
     ]
    }
   ],
   "source": [
    "#random.uniform=output randoms value from uniform distribution\n",
    "random_tensor = tf.random.uniform(\n",
    "    [5,],\n",
    "    minval=0,\n",
    "    maxval=1,\n",
    "    dtype=tf.dtypes.float32,\n",
    "    seed=4,\n",
    "    name=None\n",
    ")\n",
    "print(random_tensor)"
   ]
  },
  {
   "cell_type": "code",
   "execution_count": null,
   "metadata": {},
   "outputs": [
    {
     "name": "stdout",
     "output_type": "stream",
     "text": [
      "tf.Tensor(\n",
      "[[2 0 1]\n",
      " [2 1 1]], shape=(2, 3), dtype=int32)\n",
      "tf.Tensor(\n",
      "[[2 0 1]\n",
      " [2 1 1]], shape=(2, 3), dtype=int32)\n"
     ]
    }
   ],
   "source": [
    "#set_seed = produce same values\n",
    "tf.random.set_seed(5)\n",
    "random_tensor1=tf.random.uniform(shape=[2,3],maxval=3, dtype=tf.int32,seed=10)\n",
    "tf.random.set_seed(5)\n",
    "random_tensor2=tf.random.uniform(shape=[2,3],maxval=3, dtype=tf.int32,seed=10)\n",
    "print(random_tensor1)\n",
    "print(random_tensor2)"
   ]
  },
  {
   "cell_type": "markdown",
   "metadata": {},
   "source": [
    "## Index"
   ]
  },
  {
   "cell_type": "code",
   "execution_count": 37,
   "metadata": {},
   "outputs": [
    {
     "name": "stdout",
     "output_type": "stream",
     "text": [
      "tf.Tensor([3 6 2 4 6], shape=(5,), dtype=int32)\n",
      "tf.Tensor([3 6 2], shape=(3,), dtype=int32)\n",
      "tf.Tensor([3 2 6], shape=(3,), dtype=int32)\n"
     ]
    }
   ],
   "source": [
    "tensor_indexed =  tf.constant([3,6,2,4,6])\n",
    "print(tensor_indexed)\n",
    "print(tensor_indexed[0:3])\n",
    "print(tensor_indexed[0:5:2])# from 0 to 5 with 2 step"
   ]
  },
  {
   "cell_type": "code",
   "execution_count": 44,
   "metadata": {},
   "outputs": [
    {
     "name": "stdout",
     "output_type": "stream",
     "text": [
      "tf.Tensor(\n",
      "[[1]\n",
      " [3]], shape=(2, 1), dtype=int32)\n",
      "tf.Tensor(5, shape=(), dtype=int32)\n",
      "tf.Tensor([2 5], shape=(2,), dtype=int32)\n"
     ]
    }
   ],
   "source": [
    "tensor_two_indexed = tf.constant([[1,2,3],\n",
    "                                 [3,5,6]])\n",
    "print(tensor_two_indexed[0:2,0:1])\n",
    "print(tensor_two_indexed[1,1])\n",
    "print(tensor_two_indexed[..., 1]) # all element of col 1 index"
   ]
  },
  {
   "cell_type": "markdown",
   "metadata": {},
   "source": [
    "## Maths Operations"
   ]
  },
  {
   "cell_type": "code",
   "execution_count": null,
   "metadata": {},
   "outputs": [
    {
     "data": {
      "text/plain": [
       "<tf.Tensor: shape=(2,), dtype=float32, numpy=array([2.25, 3.25], dtype=float32)>"
      ]
     },
     "execution_count": 2,
     "metadata": {},
     "output_type": "execute_result"
    }
   ],
   "source": [
    "#math.abs= computes value of a tensor to absloute value\n",
    "abs_value = tf.constant([-2.25,3.25])\n",
    "tf.abs(abs_value)"
   ]
  },
  {
   "cell_type": "code",
   "execution_count": 5,
   "metadata": {},
   "outputs": [
    {
     "name": "stdout",
     "output_type": "stream",
     "text": [
      "tf.Tensor([7.34982993], shape=(1,), dtype=float64)\n",
      "tf.Tensor(7.34983, shape=(), dtype=float32)\n"
     ]
    }
   ],
   "source": [
    "# for complex \n",
    "abs_value_complex =tf.constant([-4.1+6.1j])\n",
    "print(tf.abs(abs_value_complex))\n",
    "print(tf.sqrt((-4.1)**2 + 6.1**2))\n"
   ]
  },
  {
   "cell_type": "code",
   "execution_count": null,
   "metadata": {},
   "outputs": [
    {
     "name": "stdout",
     "output_type": "stream",
     "text": [
      "tf.Tensor([ 1  4  9 16 25], shape=(5,), dtype=int32)\n",
      "tf.Tensor([1. 1. 1. 1. 1.], shape=(5,), dtype=float64)\n",
      "tf.Tensor([inf  1.  1. inf  1.], shape=(5,), dtype=float64)\n",
      "tf.Tensor([0. 1. 1. 0. 1.], shape=(5,), dtype=float64)\n"
     ]
    }
   ],
   "source": [
    "x_1 =tf.constant([1,2,3,4,5], dtype=tf.int32)\n",
    "x_2 =tf.constant([1,2,3,4,5], dtype=tf.int32)\n",
    "print(tf.multiply(x_1,x_2))\n",
    "print(tf.divide(x_1,x_2))\n",
    "#divide_no_nan = commputes a safe divide which returns 0 if y (denominator) is zero\n",
    "x_3= tf.constant([0,2,3,0,5], dtype=tf.int32)\n",
    "print(tf.divide(x_1,x_3))# it shows inf(infinite) where divided by zero\n",
    "print(tf.math.divide_no_nan(x_1,x_3)) # it will show 0"
   ]
  },
  {
   "cell_type": "code",
   "execution_count": 17,
   "metadata": {},
   "outputs": [
    {
     "name": "stdout",
     "output_type": "stream",
     "text": [
      "tf.Tensor([2 3 4 5 6], shape=(5,), dtype=int32)\n",
      "tf.Tensor([2 3 4 5 6], shape=(5,), dtype=int32)\n"
     ]
    }
   ],
   "source": [
    "# each will be added by the value  of y\n",
    "x =tf.constant([1,2,3,4,5], dtype=tf.int32)\n",
    "y =tf.constant([1], dtype=tf.int32) # we are doing stretch of x by 1\n",
    "y_1 =tf.constant([1,1,1,1,1], dtype=tf.int32)\n",
    "print(tf.math.add(x,y))\n",
    "print(tf.add(x,y_1))"
   ]
  },
  {
   "cell_type": "code",
   "execution_count": 15,
   "metadata": {},
   "outputs": [
    {
     "name": "stdout",
     "output_type": "stream",
     "text": [
      "tf.Tensor(\n",
      "[[ 2.  4.  6.  8. 10. 12.]\n",
      " [ 1.  2.  3.  4.  5.  6.]\n",
      " [10. 20. 30. 40. 50. 60.]], shape=(3, 6), dtype=float32)\n"
     ]
    }
   ],
   "source": [
    "x1= tf.constant([[1,2,3,4,5,6],], dtype=tf.float32)\n",
    "x2= tf.constant([[2],[1],[10]], dtype=tf.float32)\n",
    "print(tf.math.multiply(x1,x2))"
   ]
  },
  {
   "cell_type": "code",
   "execution_count": 19,
   "metadata": {},
   "outputs": [
    {
     "name": "stdout",
     "output_type": "stream",
     "text": [
      "tf.Tensor([1 2 3 0 5], shape=(5,), dtype=int32)\n"
     ]
    }
   ],
   "source": [
    "# maximum = returns the max of x and y (i.e. x>y ? x:y) element-wise\n",
    "x4 =tf.constant([1,2,3,4,5], dtype=tf.int32)\n",
    "x5 =tf.constant([1,2,3,0,5], dtype=tf.int32)\n",
    "print(tf.math.minimum(x4,x5))"
   ]
  },
  {
   "cell_type": "code",
   "execution_count": 20,
   "metadata": {},
   "outputs": [
    {
     "name": "stdout",
     "output_type": "stream",
     "text": [
      "tf.Tensor(4, shape=(), dtype=int64)\n",
      "tf.Tensor(3, shape=(), dtype=int64)\n"
     ]
    }
   ],
   "source": [
    "# argmax= returns the index with the largest value across axes of a tensor\n",
    "print(tf.math.argmax(x4))\n",
    "print(tf.math.argmin(x5))"
   ]
  },
  {
   "cell_type": "code",
   "execution_count": 23,
   "metadata": {},
   "outputs": [
    {
     "name": "stdout",
     "output_type": "stream",
     "text": [
      "tf.Tensor([2 1], shape=(2,), dtype=int64)\n",
      "tf.Tensor([1 1 0], shape=(3,), dtype=int64)\n"
     ]
    }
   ],
   "source": [
    "x = tf.constant([[1,4,20],\n",
    "                 [3,8,6]])\n",
    "print(tf.math.argmax(x, axis=1))\n",
    "print(tf.math.argmax(x, axis=0))"
   ]
  },
  {
   "cell_type": "code",
   "execution_count": 24,
   "metadata": {},
   "outputs": [
    {
     "data": {
      "text/plain": [
       "<tf.Tensor: shape=(2, 2), dtype=int32, numpy=\n",
       "array([[ 1,  1],\n",
       "       [ 3, 16]], dtype=int32)>"
      ]
     },
     "execution_count": 24,
     "metadata": {},
     "output_type": "execute_result"
    }
   ],
   "source": [
    "x=tf.constant([[1,2],[3,4]])\n",
    "y=tf.constant([[2,0],[1,2]])\n",
    "tf.pow(x,y)"
   ]
  },
  {
   "cell_type": "code",
   "execution_count": null,
   "metadata": {},
   "outputs": [
    {
     "name": "stdout",
     "output_type": "stream",
     "text": [
      "tf.Tensor(5, shape=(), dtype=int32)\n",
      "tf.Tensor(2, shape=(), dtype=int32)\n",
      "tf.Tensor([3 2], shape=(2,), dtype=int32)\n"
     ]
    }
   ],
   "source": [
    "#reduce_sum = commputes the sum of elements across dimensions of a tensor\n",
    "print(tf.math.reduce_sum(y,axis=None, keepdims=False, name=None))\n",
    "print(tf.math.reduce_max(y,axis=None, keepdims=False, name=None))\n",
    "print(tf.math.reduce_sum(y,axis=0, keepdims=False, name=None)) # axis= 0 column"
   ]
  },
  {
   "cell_type": "code",
   "execution_count": null,
   "metadata": {},
   "outputs": [
    {
     "data": {
      "text/plain": [
       "<tf.Tensor: shape=(2, 3), dtype=float32, numpy=\n",
       "array([[0.7310586 , 0.8807971 , 0.95257413],\n",
       "       [0.95257413, 0.9933072 , 0.99752736]], dtype=float32)>"
      ]
     },
     "execution_count": 31,
     "metadata": {},
     "output_type": "execute_result"
    }
   ],
   "source": [
    "#sigmoid = sigmoid(x)=y= 1/(1+exp(-x)) for xE (-inf,inf), sigmoid(x)E(0,1)\n",
    "x = tf.constant([[1, 2, 3],  \n",
    "                 [3, 5, 6]], dtype=tf.float32)\n",
    "tf.math.sigmoid(x)"
   ]
  },
  {
   "cell_type": "code",
   "execution_count": 34,
   "metadata": {},
   "outputs": [
    {
     "data": {
      "text/plain": [
       "TopKV2(values=<tf.Tensor: shape=(2, 2), dtype=float32, numpy=\n",
       "array([[12.,  3.],\n",
       "       [13.,  6.]], dtype=float32)>, indices=<tf.Tensor: shape=(2, 2), dtype=int32, numpy=\n",
       "array([[1, 2],\n",
       "       [0, 2]], dtype=int32)>)"
      ]
     },
     "execution_count": 34,
     "metadata": {},
     "output_type": "execute_result"
    }
   ],
   "source": [
    "# top_k = find values and indices of the k largest entries for the last dimension\n",
    "x0 = tf.constant([[1, 12, 3],  \n",
    "                 [13, 5, 6]], dtype=tf.float32)\n",
    "tf.math.top_k(\n",
    "    x0, k=2, sorted=True, name=None\n",
    ")"
   ]
  },
  {
   "cell_type": "markdown",
   "metadata": {},
   "source": [
    "## Linear ALgebra Operation"
   ]
  },
  {
   "cell_type": "code",
   "execution_count": 3,
   "metadata": {},
   "outputs": [
    {
     "data": {
      "text/plain": [
       "<tf.Tensor: shape=(2, 2), dtype=int32, numpy=\n",
       "array([[ 5,  8],\n",
       "       [11, 18]], dtype=int32)>"
      ]
     },
     "execution_count": 3,
     "metadata": {},
     "output_type": "execute_result"
    }
   ],
   "source": [
    "#matmul = multiplies matrix a by b producing a*b\n",
    "import tensorflow as tf \n",
    "a=[[1,2],[3,4]]\n",
    "b=[[1,2],[2,3]]\n",
    "tf.linalg.matmul(a,b)"
   ]
  },
  {
   "cell_type": "code",
   "execution_count": 6,
   "metadata": {},
   "outputs": [
    {
     "data": {
      "text/plain": [
       "<tf.Tensor: shape=(2, 2), dtype=int32, numpy=\n",
       "array([[1, 3],\n",
       "       [2, 4]], dtype=int32)>"
      ]
     },
     "execution_count": 6,
     "metadata": {},
     "output_type": "execute_result"
    }
   ],
   "source": [
    "tf.transpose(a)"
   ]
  },
  {
   "cell_type": "code",
   "execution_count": 7,
   "metadata": {},
   "outputs": [
    {
     "data": {
      "text/plain": [
       "<tf.Tensor: shape=(2, 2), dtype=int32, numpy=\n",
       "array([[ 7, 11],\n",
       "       [10, 16]], dtype=int32)>"
      ]
     },
     "execution_count": 7,
     "metadata": {},
     "output_type": "execute_result"
    }
   ],
   "source": [
    "tf.linalg.matmul(a, b, transpose_a=True, transpose_b=True) # transpose value of a and b "
   ]
  },
  {
   "cell_type": "code",
   "execution_count": 21,
   "metadata": {},
   "outputs": [
    {
     "data": {
      "text/plain": [
       "<tf.Tensor: shape=(5, 3), dtype=int32, numpy=\n",
       "array([[1, 0, 0],\n",
       "       [5, 6, 0],\n",
       "       [8, 9, 1],\n",
       "       [8, 8, 3],\n",
       "       [1, 4, 6]], dtype=int32)>"
      ]
     },
     "execution_count": 21,
     "metadata": {},
     "output_type": "execute_result"
    }
   ],
   "source": [
    "a=[[1,2,3],\n",
    "   [5,6,7],\n",
    "   [8,9,1],\n",
    "   [8,8,3],\n",
    "   [1,4,6]]\n",
    "tf.linalg.band_part(a, -1, 0)\n"
   ]
  },
  {
   "cell_type": "code",
   "execution_count": 22,
   "metadata": {},
   "outputs": [
    {
     "data": {
      "text/plain": [
       "<tf.Tensor: shape=(5, 3), dtype=int32, numpy=\n",
       "array([[1, 0, 0],\n",
       "       [5, 6, 0],\n",
       "       [0, 9, 1],\n",
       "       [0, 0, 3],\n",
       "       [0, 0, 0]], dtype=int32)>"
      ]
     },
     "execution_count": 22,
     "metadata": {},
     "output_type": "execute_result"
    }
   ],
   "source": [
    "tf.linalg.band_part(a, num_lower=1,num_upper=0)"
   ]
  },
  {
   "cell_type": "code",
   "execution_count": 23,
   "metadata": {},
   "outputs": [
    {
     "data": {
      "text/plain": [
       "<tf.Tensor: shape=(5, 3), dtype=int32, numpy=\n",
       "array([[1, 2, 0],\n",
       "       [0, 6, 7],\n",
       "       [0, 0, 1],\n",
       "       [0, 0, 0],\n",
       "       [0, 0, 0]], dtype=int32)>"
      ]
     },
     "execution_count": 23,
     "metadata": {},
     "output_type": "execute_result"
    }
   ],
   "source": [
    "tf.linalg.band_part(a, num_lower=0,num_upper=1)"
   ]
  },
  {
   "cell_type": "code",
   "execution_count": 41,
   "metadata": {},
   "outputs": [
    {
     "data": {
      "text/plain": [
       "<tf.Tensor: shape=(5, 3), dtype=int32, numpy=\n",
       "array([[1, 2, 0],\n",
       "       [0, 6, 7],\n",
       "       [0, 0, 1],\n",
       "       [0, 0, 0],\n",
       "       [0, 0, 0]], dtype=int32)>"
      ]
     },
     "execution_count": 41,
     "metadata": {},
     "output_type": "execute_result"
    }
   ],
   "source": [
    "# m = row and n=col \n",
    "# m-n<= lower and n-m<==upper\n",
    "tf.linalg.band_part(a, num_lower=0,num_upper=1)"
   ]
  },
  {
   "cell_type": "code",
   "execution_count": null,
   "metadata": {},
   "outputs": [
    {
     "name": "stdout",
     "output_type": "stream",
     "text": [
      "tf.Tensor(\n",
      "[[-2.0000002   1.0000001 ]\n",
      " [ 1.5000001  -0.50000006]], shape=(2, 2), dtype=float32)\n"
     ]
    }
   ],
   "source": [
    "#inv =inverse\n",
    "import tensorflow as tf\n",
    "\n",
    "a = tf.constant([[1, 2], [3, 4]], dtype=tf.float32)\n",
    "inv_a = tf.linalg.inv(a)\n",
    "\n",
    "print(inv_a)"
   ]
  },
  {
   "cell_type": "code",
   "execution_count": 4,
   "metadata": {},
   "outputs": [
    {
     "name": "stdout",
     "output_type": "stream",
     "text": [
      "Singular values: tf.Tensor([5.4649854  0.36596614], shape=(2,), dtype=float32)\n",
      "Left singular vectors (U): tf.Tensor(\n",
      "[[ 0.4045535 -0.9145143]\n",
      " [ 0.9145143  0.4045535]], shape=(2, 2), dtype=float32)\n",
      "Right singular vectors (V): tf.Tensor(\n",
      "[[ 0.5760484  0.8174156]\n",
      " [ 0.8174156 -0.5760484]], shape=(2, 2), dtype=float32)\n"
     ]
    }
   ],
   "source": [
    "a = tf.constant([[1.0, 2.0], [3.0, 4.0]], dtype=tf.float32)  # Ensure float type\n",
    "s, u, v = tf.linalg.svd(a)\n",
    "\n",
    "print(\"Singular values:\", s)\n",
    "print(\"Left singular vectors (U):\", u)\n",
    "print(\"Right singular vectors (V):\", v)"
   ]
  },
  {
   "cell_type": "code",
   "execution_count": 7,
   "metadata": {},
   "outputs": [
    {
     "name": "stdout",
     "output_type": "stream",
     "text": [
      "tf.Tensor(\n",
      "[[19. 22.]\n",
      " [43. 50.]], shape=(2, 2), dtype=float32)\n",
      "tf.Tensor(\n",
      "[[1. 3.]\n",
      " [2. 4.]], shape=(2, 2), dtype=float32)\n"
     ]
    }
   ],
   "source": [
    "#einsum\n",
    "A = tf.constant([[1, 2], [3, 4]], dtype=tf.float32)\n",
    "B = tf.constant([[5, 6], [7, 8]], dtype=tf.float32)\n",
    "# ij is of A and jk is of B this is row column. This give ik shape  \n",
    "C = tf.einsum('ij,jk->ik', A, B)  # Equivalent to tf.matmul(A, B) \n",
    "print(C)\n",
    "\n",
    "A_T = tf.einsum('ij->ji', A)  # Equivalent to tf.transpose(A)\n",
    "print(A_T)\n"
   ]
  },
  {
   "cell_type": "code",
   "execution_count": null,
   "metadata": {},
   "outputs": [
    {
     "name": "stdout",
     "output_type": "stream",
     "text": [
      "Batch multi C=\n",
      "[[[ 22 171  39]\n",
      "  [ 90 705 157]]\n",
      "\n",
      " [[ 22 171  39]\n",
      "  [ 90 705 157]]] \n",
      "\n",
      "Einsum C =\n",
      "tf.Tensor(\n",
      "[[[ 22. 171.  39.]\n",
      "  [ 90. 705. 157.]]\n",
      "\n",
      " [[ 22. 171.  39.]\n",
      "  [ 90. 705. 157.]]], shape=(2, 2, 3), dtype=float32)\n"
     ]
    }
   ],
   "source": [
    "import numpy as np\n",
    "A = np.array( [[[1,3,4,],\n",
    "                [3,24,5,]],\n",
    "               [[1,3,4,],\n",
    "                [3,24,5,]]])\n",
    "B = np.array( [[[1,3,4,],\n",
    "                [3,24,5,],\n",
    "                [3,24,5,]],\n",
    "               [[1,3,4,],\n",
    "                [3,24,5,],\n",
    "                [3,24,5,]]])\n",
    "print(\"Batch multi C=\")\n",
    "print(np.matmul(A,B),\"\\n\")\n",
    "\n",
    "# Convert NumPy arrays to TensorFlow tensors\n",
    "A_tf = tf.convert_to_tensor(A, dtype=tf.float32)\n",
    "B_tf = tf.convert_to_tensor(B, dtype=tf.float32)\n",
    "\n",
    "print(\"Einsum C =\")\n",
    "print(tf.einsum('bij,bjk->bik',A_tf,B_tf))"
   ]
  },
  {
   "cell_type": "code",
   "execution_count": 36,
   "metadata": {},
   "outputs": [
    {
     "name": "stdout",
     "output_type": "stream",
     "text": [
      "Einsum F =\n",
      "tf.Tensor(\n",
      "[[[ 26.  95.]\n",
      "  [ 95. 610.]]\n",
      "\n",
      " [[ 26.  95.]\n",
      "  [ 95. 610.]]], shape=(2, 2, 2), dtype=float32) \n",
      "\n",
      "Batch multi H=\n",
      "[[[ 26.  95.]\n",
      "  [ 95. 610.]]\n",
      "\n",
      " [[ 26.  95.]\n",
      "  [ 95. 610.]]] \n",
      "\n",
      "tf.Tensor(\n",
      "[[[ 26.  95.]\n",
      "  [ 95. 610.]]\n",
      "\n",
      " [[ 26.  95.]\n",
      "  [ 95. 610.]]], shape=(2, 2, 2), dtype=float32)\n"
     ]
    }
   ],
   "source": [
    "D = np.array( [[[1,3,4,],\n",
    "                [3,24,5,]],\n",
    "               [[1,3,4,],\n",
    "                [3,24,5,]]])\n",
    "E = np.array( [[[1,3,4,],\n",
    "                [3,24,5,]],\n",
    "               [[1,3,4,],\n",
    "                [3,24,5,]]])\n",
    "# Convert NumPy arrays to TensorFlow tensors\n",
    "D_tf = tf.convert_to_tensor(D, dtype=tf.float32) #bqm where b is batch, q is row and m is column\n",
    "E_tf = tf.convert_to_tensor(E, dtype=tf.float32) #bqm \n",
    "\n",
    "# if we do multiplcation then D_tf col must be equal to row of E_tf \n",
    "# since they are mot equal we transpose E_tf then bmq \n",
    "# now D_tf = bqm and E_tf transpose = bmq this means D_tf col and E_tf transpose row is equal\n",
    "# this give bqq \n",
    "# Transpose E_tf to (b, m, q)\n",
    "E_tf_T = tf.transpose(E_tf, perm=[0, 2, 1])\n",
    "\n",
    "\n",
    "# Perform einsum (b, q, m) @ (b, m, q) -> (b, q, q)\n",
    "F_tf = tf.einsum('bqm,bme->bqe', D_tf, E_tf_T)\n",
    "\n",
    "print(\"Einsum F =\")\n",
    "print(F_tf, \"\\n\")\n",
    "\n",
    "print(\"Batch multi H=\")\n",
    "print(np.matmul(D_tf, E_tf_T),\"\\n\")\n",
    "\n",
    "# transpose with in it\n",
    "G_tf = tf.einsum('bqm,bem->bqe', D_tf, E_tf)\n",
    "print(G_tf)"
   ]
  },
  {
   "cell_type": "code",
   "execution_count": 39,
   "metadata": {},
   "outputs": [
    {
     "name": "stdout",
     "output_type": "stream",
     "text": [
      "(2, 4, 6, 1, 2)\n",
      "(2, 4, 6, 4, 2)\n",
      "(2, 4, 6, 4, 1)\n"
     ]
    }
   ],
   "source": [
    "Q= np.random.randn(2,4,6,4,2) #bcij 4-D\n",
    "K= np.random.randn(2,4,6,4,1) #bcik 4-D\n",
    "\n",
    "\n",
    "print(np.einsum(\"bcdik, bcdij -> bcdkj\", K,Q).shape)\n",
    "print(Q.shape)\n",
    "print(K.shape)\n"
   ]
  },
  {
   "cell_type": "markdown",
   "metadata": {},
   "source": [
    "## Tensorflow functions"
   ]
  },
  {
   "cell_type": "code",
   "execution_count": 45,
   "metadata": {},
   "outputs": [
    {
     "name": "stdout",
     "output_type": "stream",
     "text": [
      "(2, 2, 3)\n",
      "tf.Tensor(\n",
      "[[[[ 1  3  4]\n",
      "   [ 3 24  5]]]\n",
      "\n",
      "\n",
      " [[[ 1  3  4]\n",
      "   [ 3 24  5]]]], shape=(2, 1, 2, 3), dtype=int32)\n",
      "tf.Tensor(\n",
      "[[[[ 1  3  4]\n",
      "   [ 3 24  5]]\n",
      "\n",
      "  [[ 1  3  4]\n",
      "   [ 3 24  5]]]], shape=(1, 2, 2, 3), dtype=int32)\n",
      "tf.Tensor(\n",
      "[[[[ 1  3  4]]\n",
      "\n",
      "  [[ 3 24  5]]]\n",
      "\n",
      "\n",
      " [[[ 1  3  4]]\n",
      "\n",
      "  [[ 3 24  5]]]], shape=(2, 2, 1, 3), dtype=int32)\n"
     ]
    }
   ],
   "source": [
    "# expands_dims= returns a tensor with a length 1 axis inserted at index axis\n",
    "D = tf.constant( [[[1,3,4,],\n",
    "                [3,24,5,]],\n",
    "               [[1,3,4,],\n",
    "                [3,24,5,]]])\n",
    "print(D.shape)\n",
    "print(tf.expand_dims(D, axis=1))\n",
    "print(tf.expand_dims(D, axis=0))\n",
    "print(tf.expand_dims(D, axis=2))"
   ]
  },
  {
   "cell_type": "code",
   "execution_count": 50,
   "metadata": {},
   "outputs": [
    {
     "name": "stdout",
     "output_type": "stream",
     "text": [
      "tf.Tensor(\n",
      "[[[[ 1  3  4]\n",
      "   [ 3 24  5]]]\n",
      "\n",
      "\n",
      " [[[ 1  3  4]\n",
      "   [ 3 24  5]]]], shape=(2, 1, 2, 3), dtype=int32)\n",
      "tf.Tensor(\n",
      "[[[ 1  3  4]\n",
      "  [ 3 24  5]]\n",
      "\n",
      " [[ 1  3  4]\n",
      "  [ 3 24  5]]], shape=(2, 2, 3), dtype=int32)\n"
     ]
    }
   ],
   "source": [
    "# squeeze= remove dimension of size 1 from the shape of a tensor\n",
    "x_D=tf.expand_dims(D, axis=1)\n",
    "print(x_D)\n",
    "print(tf.squeeze(x_D,axis=1))"
   ]
  },
  {
   "cell_type": "code",
   "execution_count": 54,
   "metadata": {},
   "outputs": [
    {
     "name": "stdout",
     "output_type": "stream",
     "text": [
      "tf.Tensor(\n",
      "[[[ 1  3  4]\n",
      "  [ 3 24  5]]\n",
      "\n",
      " [[ 1  3  4]\n",
      "  [ 3 24  5]]], shape=(2, 2, 3), dtype=int32)\n",
      "tf.Tensor(\n",
      "[[ 1  3  4  3 24  5]\n",
      " [ 1  3  4  3 24  5]], shape=(2, 6), dtype=int32)\n",
      "tf.Tensor([ 1  3  4  3 24  5  1  3  4  3 24  5], shape=(12,), dtype=int32)\n",
      "tf.Tensor(\n",
      "[[[[ 1  3  4]\n",
      "   [ 3 24  5]]\n",
      "\n",
      "  [[ 1  3  4]\n",
      "   [ 3 24  5]]]], shape=(1, 2, 2, 3), dtype=int32)\n"
     ]
    }
   ],
   "source": [
    "# reshape\n",
    "print(tf.reshape(x_D, [2,2,3]))\n",
    "print(tf.reshape(x_D, [2,6]))\n",
    "print(tf.reshape(x_D, [12]))\n",
    "print(tf.reshape(x_D, [1,2,2,3]))"
   ]
  },
  {
   "cell_type": "code",
   "execution_count": null,
   "metadata": {},
   "outputs": [
    {
     "name": "stdout",
     "output_type": "stream",
     "text": [
      "tf.Tensor(\n",
      "[[[ 1  3  4]\n",
      "  [ 3 24  5]]\n",
      "\n",
      " [[ 1  3  4]\n",
      "  [ 3 24  5]]], shape=(2, 2, 3), dtype=int32)\n",
      "tf.Tensor(\n",
      "[[[ 1  3  4]\n",
      "  [ 3 24  5]]\n",
      "\n",
      " [[ 1  3  4]\n",
      "  [ 3 24  5]]\n",
      "\n",
      " [[ 1  3  4]\n",
      "  [ 3 24  5]]\n",
      "\n",
      " [[ 1  3  4]\n",
      "  [ 3 24  5]]], shape=(4, 2, 3), dtype=int32)\n",
      "tf.Tensor(\n",
      "[[[ 1  3  4]\n",
      "  [ 3 24  5]\n",
      "  [ 1  3  4]\n",
      "  [ 3 24  5]]\n",
      "\n",
      " [[ 1  3  4]\n",
      "  [ 3 24  5]\n",
      "  [ 1  3  4]\n",
      "  [ 3 24  5]]], shape=(2, 4, 3), dtype=int32)\n"
     ]
    }
   ],
   "source": [
    "#concat= cancatenates tensors along one dimension\n",
    "print(D)\n",
    "print(tf.concat([D,D],0))\n",
    "print(tf.concat([D,D],1))\n"
   ]
  },
  {
   "cell_type": "code",
   "execution_count": 66,
   "metadata": {},
   "outputs": [
    {
     "name": "stdout",
     "output_type": "stream",
     "text": [
      "tf.Tensor(\n",
      "[[[[ 1  3  4]\n",
      "   [ 3 24  5]]\n",
      "\n",
      "  [[ 1  3  4]\n",
      "   [ 3 24  5]]]\n",
      "\n",
      "\n",
      " [[[ 1  3  4]\n",
      "   [ 3 24  5]]\n",
      "\n",
      "  [[ 1  3  4]\n",
      "   [ 3 24  5]]]], shape=(2, 2, 2, 3), dtype=int32)\n",
      "tf.Tensor(\n",
      "[[[[ 1  1]\n",
      "   [ 3  3]\n",
      "   [ 4  4]]\n",
      "\n",
      "  [[ 3  3]\n",
      "   [24 24]\n",
      "   [ 5  5]]]\n",
      "\n",
      "\n",
      " [[[ 1  1]\n",
      "   [ 3  3]\n",
      "   [ 4  4]]\n",
      "\n",
      "  [[ 3  3]\n",
      "   [24 24]\n",
      "   [ 5  5]]]], shape=(2, 2, 3, 2), dtype=int32)\n"
     ]
    }
   ],
   "source": [
    "print(tf.stack([D,D],1))\n",
    "print(tf.stack([D,D],3))"
   ]
  },
  {
   "cell_type": "code",
   "execution_count": 71,
   "metadata": {},
   "outputs": [
    {
     "name": "stdout",
     "output_type": "stream",
     "text": [
      "tf.Tensor(\n",
      "[[[[ 1  1]\n",
      "   [ 3  3]\n",
      "   [ 4  4]]\n",
      "\n",
      "  [[ 3  3]\n",
      "   [24 24]\n",
      "   [ 5  5]]]\n",
      "\n",
      "\n",
      " [[[ 1  1]\n",
      "   [ 3  3]\n",
      "   [ 4  4]]\n",
      "\n",
      "  [[ 3  3]\n",
      "   [24 24]\n",
      "   [ 5  5]]]], shape=(2, 2, 3, 2), dtype=int32)\n"
     ]
    },
    {
     "data": {
      "text/plain": [
       "<tf.Tensor: shape=(2, 2, 3, 2), dtype=int32, numpy=\n",
       "array([[[[ 1,  1],\n",
       "         [ 3,  3],\n",
       "         [ 4,  4]],\n",
       "\n",
       "        [[ 3,  3],\n",
       "         [24, 24],\n",
       "         [ 5,  5]]],\n",
       "\n",
       "\n",
       "       [[[ 1,  1],\n",
       "         [ 3,  3],\n",
       "         [ 4,  4]],\n",
       "\n",
       "        [[ 3,  3],\n",
       "         [24, 24],\n",
       "         [ 5,  5]]]], dtype=int32)>"
      ]
     },
     "execution_count": 71,
     "metadata": {},
     "output_type": "execute_result"
    }
   ],
   "source": [
    "print(tf.stack([D,D],3))\n",
    "tf.concat([tf.expand_dims(D, axis=3) for t in [D,D]],axis=3)"
   ]
  },
  {
   "cell_type": "code",
   "execution_count": 75,
   "metadata": {},
   "outputs": [
    {
     "data": {
      "text/plain": [
       "<tf.Tensor: shape=(4, 6, 9), dtype=int32, numpy=\n",
       "array([[[99, 99, 99, 99, 99, 99, 99, 99, 99],\n",
       "        [99, 99, 99, 99, 99, 99, 99, 99, 99],\n",
       "        [99, 99, 99, 99, 99, 99, 99, 99, 99],\n",
       "        [99, 99, 99, 99, 99, 99, 99, 99, 99],\n",
       "        [99, 99, 99, 99, 99, 99, 99, 99, 99],\n",
       "        [99, 99, 99, 99, 99, 99, 99, 99, 99]],\n",
       "\n",
       "       [[99, 99, 99, 99, 99, 99, 99, 99, 99],\n",
       "        [99, 99, 99, 99, 99, 99, 99, 99, 99],\n",
       "        [99, 99, 99,  1,  3,  4, 99, 99, 99],\n",
       "        [99, 99, 99,  3, 24,  5, 99, 99, 99],\n",
       "        [99, 99, 99, 99, 99, 99, 99, 99, 99],\n",
       "        [99, 99, 99, 99, 99, 99, 99, 99, 99]],\n",
       "\n",
       "       [[99, 99, 99, 99, 99, 99, 99, 99, 99],\n",
       "        [99, 99, 99, 99, 99, 99, 99, 99, 99],\n",
       "        [99, 99, 99,  1,  3,  4, 99, 99, 99],\n",
       "        [99, 99, 99,  3, 24,  5, 99, 99, 99],\n",
       "        [99, 99, 99, 99, 99, 99, 99, 99, 99],\n",
       "        [99, 99, 99, 99, 99, 99, 99, 99, 99]],\n",
       "\n",
       "       [[99, 99, 99, 99, 99, 99, 99, 99, 99],\n",
       "        [99, 99, 99, 99, 99, 99, 99, 99, 99],\n",
       "        [99, 99, 99, 99, 99, 99, 99, 99, 99],\n",
       "        [99, 99, 99, 99, 99, 99, 99, 99, 99],\n",
       "        [99, 99, 99, 99, 99, 99, 99, 99, 99],\n",
       "        [99, 99, 99, 99, 99, 99, 99, 99, 99]]], dtype=int32)>"
      ]
     },
     "execution_count": 75,
     "metadata": {},
     "output_type": "execute_result"
    }
   ],
   "source": [
    "#pad = pads a tensor\n",
    "#tf.pad(tensor, paddings, mode=\"CONSTANT\", constant_values=0, name=None)\n",
    "paddings = tf.constant([[1,1],[2,2],[3,3]])\n",
    "tf.pad(D, paddings, \"CONSTANT\", constant_values=99)"
   ]
  },
  {
   "cell_type": "code",
   "execution_count": 88,
   "metadata": {},
   "outputs": [
    {
     "name": "stdout",
     "output_type": "stream",
     "text": [
      "tf.Tensor([1 1 1], shape=(3,), dtype=int32)\n",
      "tf.Tensor([2 0 1], shape=(3,), dtype=int32)\n",
      "tf.Tensor([1 4 1], shape=(3,), dtype=int32)\n"
     ]
    }
   ],
   "source": [
    "#gather= gather slices from params axis according to indics\n",
    "a= tf.constant([0, 2,1,4,1,35,3,1])\n",
    "print(tf.gather(a, [2,4,7]))\n",
    "print(tf.gather(a, [1,0,7]))\n",
    "\n",
    "print(tf.gather(a, tf.range(2,5)))\n"
   ]
  },
  {
   "cell_type": "code",
   "execution_count": 87,
   "metadata": {},
   "outputs": [
    {
     "name": "stdout",
     "output_type": "stream",
     "text": [
      "tf.Tensor(\n",
      "[[1 3]\n",
      " [6 8]\n",
      " [1 3]\n",
      " [6 8]], shape=(4, 2), dtype=int32)\n",
      "tf.Tensor(\n",
      "[[5 6 7 8]\n",
      " [5 6 7 8]], shape=(2, 4), dtype=int32)\n"
     ]
    }
   ],
   "source": [
    "params = tf.constant([[0,1,2,3],\n",
    "                      [5,6,7,8],\n",
    "                      [0,1,2,3],\n",
    "                      [5,6,7,8]])\n",
    "print(tf.gather(params,[1,3],axis=1))\n",
    "print(tf.gather(params,[1,3],axis=0))\n"
   ]
  },
  {
   "cell_type": "code",
   "execution_count": 98,
   "metadata": {},
   "outputs": [
    {
     "name": "stdout",
     "output_type": "stream",
     "text": [
      "tf.Tensor(\n",
      "[[5 6 7 8]\n",
      " [0 1 2 3]], shape=(2, 4), dtype=int32)\n",
      "tf.Tensor([6 0], shape=(2,), dtype=int32)\n"
     ]
    }
   ],
   "source": [
    "#gather_nd = gather slices from params into a tensor with shape specified by indices\n",
    "print(tf.gather_nd(params, indices=[[3],[0]]))\n",
    "print(tf.gather_nd(params, indices=[[3,1],[0,0]]))"
   ]
  },
  {
   "cell_type": "markdown",
   "metadata": {},
   "source": [
    "## Ragged Tensors"
   ]
  },
  {
   "cell_type": "markdown",
   "metadata": {},
   "source": [
    "In a tensor if we want have create tensor it must have same number of col in each row of matrix i.e. it must be rectangular matrix\n",
    "\n",
    "tf.constant([[1,2,4],\n",
    "            [0,3],\n",
    "            [3,4,5],\n",
    "            [0]])\n",
    "This cannot be tensor because it is not rectangular Tensor. So, what if we have data that is not rectangular. \n",
    "\n",
    "For this we use racked\n"
   ]
  },
  {
   "cell_type": "code",
   "execution_count": 102,
   "metadata": {},
   "outputs": [
    {
     "name": "stdout",
     "output_type": "stream",
     "text": [
      "<tf.RaggedTensor [[1, 2, 4], [0, 3], [3, 4, 5], [0]]>\n",
      "(4, None)\n"
     ]
    }
   ],
   "source": [
    "X = [[1,2,4],\n",
    "    [0,3],\n",
    "    [3,4,5],\n",
    "    [0]]\n",
    "tensor_ragged = tf.ragged.constant(X)\n",
    "print(tensor_ragged)\n",
    "print(tensor_ragged.shape)"
   ]
  },
  {
   "cell_type": "code",
   "execution_count": 110,
   "metadata": {},
   "outputs": [
    {
     "name": "stdout",
     "output_type": "stream",
     "text": [
      "Ragged Tensor:\n",
      "<tf.RaggedTensor [[1, 2, 4], [0, 3], [3, 4, 5], [0]]>\n",
      "(4, None)\n",
      "Masked Ragged Tensor:\n",
      "[[1], [0], [5], [0]]\n"
     ]
    }
   ],
   "source": [
    "# boolean_mask = Applies a boolean mask to data without flattening the mask dimensions\n",
    "import tensorflow as tf\n",
    "\n",
    "X = [[1, 2, 4], \n",
    "     [0, 3],\n",
    "     [3, 4, 5],\n",
    "     [0]]\n",
    "\n",
    "# Create a ragged tensor\n",
    "tensor_ragged = tf.ragged.constant(X)\n",
    "print(\"Ragged Tensor:\")\n",
    "print(tensor_ragged)\n",
    "print(tensor_ragged.shape)\n",
    "\n",
    "# Mask should match the number of elements in each row of the ragged tensor\n",
    "# Correcting the mask\n",
    "mask = tf.ragged.constant([[True, False, False],  # First row: Keep first element\n",
    "        [True, False],          # Second row: Keep first element\n",
    "        [False, False, True],   # Third row: Keep last element\n",
    "        [True]])                 # Fourth row: Keep first element\n",
    "\n",
    "# Apply boolean mask\n",
    "tensor_ragged_bool = tf.ragged.boolean_mask(data=tensor_ragged, mask=mask).to_list()\n",
    "\n",
    "print(\"Masked Ragged Tensor:\")\n",
    "print(tensor_ragged_bool)\n"
   ]
  },
  {
   "cell_type": "code",
   "execution_count": 119,
   "metadata": {},
   "outputs": [
    {
     "name": "stdout",
     "output_type": "stream",
     "text": [
      "<tf.RaggedTensor [[1, 2, 4], [5, 5, 7, 8, 9], [0]]>\n",
      "<tf.RaggedTensor [[1, 2, 4], [5, 5, 7, 8, 9], [0]]>\n",
      "<tf.RaggedTensor [[1, 2, 4], [5, 5, 7, 8, 9], [0]]>\n"
     ]
    }
   ],
   "source": [
    "print(tf.RaggedTensor.from_row_lengths(values = [1,2,4,5,5,7,8,9,0], row_lengths=[3,5,1]))\n",
    "print(tf.RaggedTensor.from_row_splits(values = [1,2,4,5,5,7,8,9,0], row_splits=[0,3,8,9]))\n",
    "print(tf.RaggedTensor.from_row_starts(values = [1,2,4,5,5,7,8,9,0], row_starts=[0,3,8]))"
   ]
  },
  {
   "cell_type": "code",
   "execution_count": 120,
   "metadata": {},
   "outputs": [
    {
     "data": {
      "text/plain": [
       "<tf.RaggedTensor [[1, 3],\n",
       " [3, 5],\n",
       " [5, 6]]>"
      ]
     },
     "execution_count": 120,
     "metadata": {},
     "output_type": "execute_result"
    }
   ],
   "source": [
    "A= tf.constant([[1,3],[3,5],[5,6]])\n",
    "tf.RaggedTensor.from_tensor(A)"
   ]
  },
  {
   "cell_type": "markdown",
   "metadata": {},
   "source": [
    "## Sparse Tensors"
   ]
  },
  {
   "cell_type": "markdown",
   "metadata": {},
   "source": [
    "To deal data contains many zeros and a more efficent way of treating and storing these kinds of data is by using sparse tensors"
   ]
  },
  {
   "cell_type": "code",
   "execution_count": 125,
   "metadata": {},
   "outputs": [
    {
     "name": "stdout",
     "output_type": "stream",
     "text": [
      "SparseTensor(indices=tf.Tensor(\n",
      "[[2 2]\n",
      " [3 3]\n",
      " [4 4]], shape=(3, 2), dtype=int64), values=tf.Tensor([1 2 3], shape=(3,), dtype=int32), dense_shape=tf.Tensor([5 6], shape=(2,), dtype=int64))\n",
      "tf.Tensor(\n",
      "[[0 0 0 0 0 0]\n",
      " [0 0 0 0 0 0]\n",
      " [0 0 1 0 0 0]\n",
      " [0 0 0 2 0 0]\n",
      " [0 0 0 0 3 0]], shape=(5, 6), dtype=int32)\n"
     ]
    }
   ],
   "source": [
    "#tf.sparse.SpareTensor(indices, values, dense_shape)\n",
    "\n",
    "tensor_sparse = tf.sparse.SparseTensor(indices=[[2,2],[3,3],[4,4]], values=[1,2,3], dense_shape=[5,6])\n",
    "print(tensor_sparse)\n",
    "print(tf.sparse.to_dense(tensor_sparse))"
   ]
  },
  {
   "cell_type": "markdown",
   "metadata": {},
   "source": [
    "## String Tensors"
   ]
  },
  {
   "cell_type": "code",
   "execution_count": 127,
   "metadata": {},
   "outputs": [
    {
     "name": "stdout",
     "output_type": "stream",
     "text": [
      "tf.Tensor([b'hello' b'world'], shape=(2,), dtype=string)\n",
      "tf.Tensor(b'hello world', shape=(), dtype=string)\n"
     ]
    }
   ],
   "source": [
    "tensor_string = tf.constant([\"hello\", \"world\"])\n",
    "print(tensor_string)\n",
    "print(tf.strings.join(tensor_string, separator=\" \"))"
   ]
  },
  {
   "cell_type": "markdown",
   "metadata": {},
   "source": [
    "## Variables"
   ]
  },
  {
   "cell_type": "markdown",
   "metadata": {},
   "source": [
    "Inital value will be updated as we train our model. So, we need to use variables which can be updated as we do model training.  \n",
    "\n",
    "tf.Variable(\n",
    "    initial_value=None,\n",
    "    trainable=None,\n",
    "    validate_shape=True,\n",
    "    caching_device=None,\n",
    "    name=None,\n",
    "    variable_def=None,\n",
    "    dtype=None,\n",
    "    import_scope=None,\n",
    "    constraint=None,\n",
    "    synchronization=tf.VariableSynchronization.AUTO,\n",
    "    aggregation=tf.compat.v1.VariableAggregation.NONE,\n",
    "    shape=None,\n",
    "    experimental_enable_variable_lifting=True\n",
    ")\n"
   ]
  },
  {
   "cell_type": "code",
   "execution_count": 134,
   "metadata": {},
   "outputs": [
    {
     "name": "stdout",
     "output_type": "stream",
     "text": [
      "<tf.Variable 'var1:0' shape=(2,) dtype=int32, numpy=array([1, 2], dtype=int32)>\n"
     ]
    }
   ],
   "source": [
    "x=tf.constant([1,2])\n",
    "x_var=tf.Variable(x,name='var1')\n",
    "print(x_var)"
   ]
  },
  {
   "cell_type": "code",
   "execution_count": 135,
   "metadata": {},
   "outputs": [
    {
     "name": "stdout",
     "output_type": "stream",
     "text": [
      "<tf.Variable 'UnreadVariable' shape=(2,) dtype=int32, numpy=array([-1, -1], dtype=int32)>\n"
     ]
    }
   ],
   "source": [
    "print(x_var.assign_sub([2,3]))"
   ]
  },
  {
   "cell_type": "code",
   "execution_count": 136,
   "metadata": {},
   "outputs": [
    {
     "name": "stdout",
     "output_type": "stream",
     "text": [
      "<tf.Variable 'UnreadVariable' shape=(2,) dtype=int32, numpy=array([0, 0], dtype=int32)>\n"
     ]
    }
   ],
   "source": [
    "print(x_var.assign_add([1,1]))"
   ]
  },
  {
   "cell_type": "code",
   "execution_count": 139,
   "metadata": {},
   "outputs": [
    {
     "name": "stdout",
     "output_type": "stream",
     "text": [
      "tf.Tensor([1 2], shape=(2,), dtype=int32) /job:localhost/replica:0/task:0/device:CPU:0\n",
      "tf.Tensor([1 2], shape=(2,), dtype=int32) /job:localhost/replica:0/task:0/device:CPU:0\n",
      "tf.Tensor([2 4], shape=(2,), dtype=int32) /job:localhost/replica:0/task:0/device:CPU:0\n"
     ]
    }
   ],
   "source": [
    "with tf.device('GPU:0'):\n",
    "    x_1=tf.constant([1,2])\n",
    "print(x_1,x_1.device)\n",
    "with tf.device('GPU:1'):\n",
    "    x_2=tf.constant([1,2])\n",
    "print(x_2,x_2.device)\n",
    "with tf.device('CPU:0'):\n",
    "    x_3=x_1+x_2\n",
    "print(x_3,x_3.device)"
   ]
  },
  {
   "cell_type": "markdown",
   "metadata": {},
   "source": []
  }
 ],
 "metadata": {
  "kernelspec": {
   "display_name": "cv_dl",
   "language": "python",
   "name": "python3"
  },
  "language_info": {
   "codemirror_mode": {
    "name": "ipython",
    "version": 3
   },
   "file_extension": ".py",
   "mimetype": "text/x-python",
   "name": "python",
   "nbconvert_exporter": "python",
   "pygments_lexer": "ipython3",
   "version": "3.10.16"
  }
 },
 "nbformat": 4,
 "nbformat_minor": 2
}
