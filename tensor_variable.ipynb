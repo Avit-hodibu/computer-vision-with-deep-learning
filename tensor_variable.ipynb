{
 "cells": [
  {
   "cell_type": "markdown",
   "metadata": {},
   "source": [
    "## Basics"
   ]
  },
  {
   "cell_type": "markdown",
   "metadata": {},
   "source": [
    "Tensors = multi-dimensional arrays(ordered arrangement of numbers). \n",
    "\n",
    "single number = 0-D. for eg: 9. this has no shape\n",
    "1 row of numbers or several 0-D tensor = 1-D for eg: [1,2,4]. this has shape (4,)\n",
    "\n",
    "made of several 1-D tensor = 2-D for: [[2, 4, 3],\n",
    "                                      [5, 6, 7]]\n",
    "this has shape (2,3)\n",
    "\n",
    "combine several 2-D tensor= 3-D tensor. for eg:[[[2, 4, 3],\n",
    "                                                [5, 6, 7]],\n",
    "                                                [[2, 4, 3],\n",
    "                                                [5, 6, 7]]]\n",
    "This has shape (2,2,3)"
   ]
  },
  {
   "cell_type": "code",
   "execution_count": 1,
   "metadata": {},
   "outputs": [
    {
     "name": "stdout",
     "output_type": "stream",
     "text": [
      "tf.Tensor(4, shape=(), dtype=int32)\n"
     ]
    }
   ],
   "source": [
    "import tensorflow as tf\n",
    "tensor_zero=tf.constant(4)\n",
    "print(tensor_zero)"
   ]
  },
  {
   "cell_type": "code",
   "execution_count": 2,
   "metadata": {},
   "outputs": [
    {
     "name": "stdout",
     "output_type": "stream",
     "text": [
      "tf.Tensor([4 2], shape=(2,), dtype=int32)\n"
     ]
    }
   ],
   "source": [
    "tensor_one=tf.constant([4,2])\n",
    "print(tensor_one)"
   ]
  },
  {
   "cell_type": "code",
   "execution_count": 3,
   "metadata": {},
   "outputs": [
    {
     "name": "stdout",
     "output_type": "stream",
     "text": [
      "tf.Tensor(\n",
      "[[4 2]\n",
      " [3 5]], shape=(2, 2), dtype=int32)\n"
     ]
    }
   ],
   "source": [
    "tensor_two=tf.constant([[4,2],[3,5]])\n",
    "print(tensor_two)"
   ]
  },
  {
   "cell_type": "code",
   "execution_count": 4,
   "metadata": {},
   "outputs": [
    {
     "name": "stdout",
     "output_type": "stream",
     "text": [
      "tf.Tensor(\n",
      "[[[4 2]]\n",
      "\n",
      " [[3 5]]], shape=(2, 1, 2), dtype=int32)\n"
     ]
    }
   ],
   "source": [
    "tensor_three=tf.constant([[[4,2]],[[3,5]]])\n",
    "print(tensor_three)"
   ]
  },
  {
   "cell_type": "code",
   "execution_count": 2,
   "metadata": {},
   "outputs": [
    {
     "name": "stdout",
     "output_type": "stream",
     "text": [
      "tf.Tensor([ 2.  0. -3.  8.], shape=(4,), dtype=float32)\n",
      "tf.Tensor([ 2  0 -3  8], shape=(4,), dtype=int16)\n"
     ]
    }
   ],
   "source": [
    "tensor_float= tf.constant([2,0.,-3,8], dtype=tf.float32)\n",
    "casted_tensor_int = tf.cast(tensor_float, dtype=tf.int16) # tf.cast change datatype\n",
    "print(tensor_float)\n",
    "print(casted_tensor_int)"
   ]
  },
  {
   "cell_type": "code",
   "execution_count": 3,
   "metadata": {},
   "outputs": [
    {
     "name": "stdout",
     "output_type": "stream",
     "text": [
      "tf.Tensor([1 2 3], shape=(3,), dtype=int64)\n"
     ]
    }
   ],
   "source": [
    "# convert numpy array to tensor\n",
    "import numpy as np\n",
    "np_array = np.array([1,2,3])\n",
    "converted_tensor = tf.convert_to_tensor(np_array)\n",
    "print(converted_tensor)"
   ]
  },
  {
   "cell_type": "code",
   "execution_count": 5,
   "metadata": {},
   "outputs": [
    {
     "name": "stdout",
     "output_type": "stream",
     "text": [
      "tf.Tensor(\n",
      "[[1. 0. 0. 0.]\n",
      " [0. 1. 0. 0.]\n",
      " [0. 0. 1. 0.]], shape=(3, 4), dtype=float32)\n"
     ]
    }
   ],
   "source": [
    "#eye method = construct an identity matrix or a batch of matrices\n",
    "eye_tensor = tf.eye(\n",
    "    num_rows=3,\n",
    "    num_columns=4,\n",
    "    batch_shape=None,\n",
    "    dtype=tf.dtypes.float32,\n",
    "    name=None\n",
    ")\n",
    "print(eye_tensor)"
   ]
  },
  {
   "cell_type": "code",
   "execution_count": 7,
   "metadata": {},
   "outputs": [
    {
     "name": "stdout",
     "output_type": "stream",
     "text": [
      "tf.Tensor(\n",
      "[[5 5 5 5]\n",
      " [5 5 5 5]\n",
      " [5 5 5 5]], shape=(3, 4), dtype=int32)\n"
     ]
    }
   ],
   "source": [
    "#fill method= create a tensor filled with a scalar value\n",
    "#tf.fill(dims, value, name=None)\n",
    "\n",
    "fill_tensor =tf.fill(\n",
    "    [3,4],5, name=None\n",
    ")\n",
    "\n",
    "print(fill_tensor)"
   ]
  },
  {
   "cell_type": "code",
   "execution_count": 8,
   "metadata": {},
   "outputs": [
    {
     "name": "stdout",
     "output_type": "stream",
     "text": [
      "tf.Tensor(\n",
      "[[1. 1. 1.]\n",
      " [1. 1. 1.]\n",
      " [1. 1. 1.]\n",
      " [1. 1. 1.]\n",
      " [1. 1. 1.]], shape=(5, 3), dtype=float32)\n"
     ]
    }
   ],
   "source": [
    "#ones method= creates a tensor with all elements set to one\n",
    "#tf.ones(shape, dtype= tf.dtypes.float32, namee=None)\n",
    "one_tensor = tf.ones(\n",
    "    [5,3],\n",
    "    dtype=tf.dtypes.float32,\n",
    "    name=None\n",
    ")\n",
    "\n",
    "print(one_tensor)"
   ]
  },
  {
   "cell_type": "code",
   "execution_count": 10,
   "metadata": {},
   "outputs": [
    {
     "name": "stdout",
     "output_type": "stream",
     "text": [
      "tf.Tensor(\n",
      "[[5 5 5 5]\n",
      " [5 5 5 5]\n",
      " [5 5 5 5]], shape=(3, 4), dtype=int32)\n",
      "tf.Tensor(\n",
      "[[1 1 1 1]\n",
      " [1 1 1 1]\n",
      " [1 1 1 1]], shape=(3, 4), dtype=int32)\n"
     ]
    }
   ],
   "source": [
    "#ones_like method= create a tensor of all ones that has the same shape as the input\n",
    "#tf.ones_like(input, dtype=None, name=None)\n",
    "ones_like_tensor=tf.ones_like(fill_tensor)\n",
    "print(fill_tensor)\n",
    "print(ones_like_tensor)"
   ]
  },
  {
   "cell_type": "code",
   "execution_count": 3,
   "metadata": {},
   "outputs": [
    {
     "name": "stdout",
     "output_type": "stream",
     "text": [
      "tf.Tensor(\n",
      "[[0. 0. 0.]\n",
      " [0. 0. 0.]\n",
      " [0. 0. 0.]\n",
      " [0. 0. 0.]\n",
      " [0. 0. 0.]], shape=(5, 3), dtype=float32)\n"
     ]
    }
   ],
   "source": [
    "# zeros = create a tensor with all elements set to zero\n",
    "zero_tensor= tf.zeros(\n",
    "    [5,3],\n",
    "    dtype=tf.dtypes.float32,\n",
    "    name=None\n",
    ")\n",
    "\n",
    "print(zero_tensor)"
   ]
  },
  {
   "cell_type": "code",
   "execution_count": 14,
   "metadata": {},
   "outputs": [
    {
     "name": "stdout",
     "output_type": "stream",
     "text": [
      "tf.Tensor([5 3], shape=(2,), dtype=int32)\n"
     ]
    }
   ],
   "source": [
    "#shape = returns a tensoe conatining the shape of the input tensor\n",
    "shape_tensor = tf.shape(\n",
    "    zero_tensor,\n",
    "    out_type=tf.int32\n",
    ")\n",
    "print(shape_tensor)"
   ]
  },
  {
   "cell_type": "code",
   "execution_count": 16,
   "metadata": {},
   "outputs": [
    {
     "name": "stdout",
     "output_type": "stream",
     "text": [
      "tf.Tensor(15.0, shape=(), dtype=float32)\n"
     ]
    }
   ],
   "source": [
    "size_tensor= tf.size(\n",
    "    zero_tensor,\n",
    "    out_type=tf.float32\n",
    ")\n",
    "print(size_tensor)"
   ]
  },
  {
   "cell_type": "code",
   "execution_count": null,
   "metadata": {},
   "outputs": [
    {
     "name": "stdout",
     "output_type": "stream",
     "text": [
      "tf.Tensor(\n",
      "[[ 4621.3506   2729.938  ]\n",
      " [ 2333.6624   2705.2656 ]\n",
      " [-1687.2905    170.59027]], shape=(3, 2), dtype=float32)\n"
     ]
    }
   ],
   "source": [
    "#random.normal = outputs random values from a normal distribution\n",
    "random_tensor = tf.random.normal(\n",
    "    shape=[3,2],\n",
    "    mean=1111.0,\n",
    "    stddev=2221.0,\n",
    "    dtype=tf.dtypes.float32,\n",
    "    seed=None,\n",
    "    name=None\n",
    ")\n",
    "print(random_tensor)"
   ]
  },
  {
   "cell_type": "code",
   "execution_count": 31,
   "metadata": {},
   "outputs": [
    {
     "name": "stdout",
     "output_type": "stream",
     "text": [
      "tf.Tensor([0.721082   0.16421127 0.0344758  0.6312306  0.05017233], shape=(5,), dtype=float32)\n"
     ]
    }
   ],
   "source": [
    "#random.uniform=output randoms value from uniform distribution\n",
    "random_tensor = tf.random.uniform(\n",
    "    [5,],\n",
    "    minval=0,\n",
    "    maxval=1,\n",
    "    dtype=tf.dtypes.float32,\n",
    "    seed=4,\n",
    "    name=None\n",
    ")\n",
    "print(random_tensor)"
   ]
  },
  {
   "cell_type": "code",
   "execution_count": null,
   "metadata": {},
   "outputs": [
    {
     "name": "stdout",
     "output_type": "stream",
     "text": [
      "tf.Tensor(\n",
      "[[2 0 1]\n",
      " [2 1 1]], shape=(2, 3), dtype=int32)\n",
      "tf.Tensor(\n",
      "[[2 0 1]\n",
      " [2 1 1]], shape=(2, 3), dtype=int32)\n"
     ]
    }
   ],
   "source": [
    "#set_seed = produce same values\n",
    "tf.random.set_seed(5)\n",
    "random_tensor1=tf.random.uniform(shape=[2,3],maxval=3, dtype=tf.int32,seed=10)\n",
    "tf.random.set_seed(5)\n",
    "random_tensor2=tf.random.uniform(shape=[2,3],maxval=3, dtype=tf.int32,seed=10)\n",
    "print(random_tensor1)\n",
    "print(random_tensor2)"
   ]
  },
  {
   "cell_type": "markdown",
   "metadata": {},
   "source": [
    "## Index"
   ]
  },
  {
   "cell_type": "code",
   "execution_count": 37,
   "metadata": {},
   "outputs": [
    {
     "name": "stdout",
     "output_type": "stream",
     "text": [
      "tf.Tensor([3 6 2 4 6], shape=(5,), dtype=int32)\n",
      "tf.Tensor([3 6 2], shape=(3,), dtype=int32)\n",
      "tf.Tensor([3 2 6], shape=(3,), dtype=int32)\n"
     ]
    }
   ],
   "source": [
    "tensor_indexed =  tf.constant([3,6,2,4,6])\n",
    "print(tensor_indexed)\n",
    "print(tensor_indexed[0:3])\n",
    "print(tensor_indexed[0:5:2])# from 0 to 5 with 2 step"
   ]
  },
  {
   "cell_type": "code",
   "execution_count": 44,
   "metadata": {},
   "outputs": [
    {
     "name": "stdout",
     "output_type": "stream",
     "text": [
      "tf.Tensor(\n",
      "[[1]\n",
      " [3]], shape=(2, 1), dtype=int32)\n",
      "tf.Tensor(5, shape=(), dtype=int32)\n",
      "tf.Tensor([2 5], shape=(2,), dtype=int32)\n"
     ]
    }
   ],
   "source": [
    "tensor_two_indexed = tf.constant([[1,2,3],\n",
    "                                 [3,5,6]])\n",
    "print(tensor_two_indexed[0:2,0:1])\n",
    "print(tensor_two_indexed[1,1])\n",
    "print(tensor_two_indexed[..., 1]) # all element of col 1 index"
   ]
  },
  {
   "cell_type": "markdown",
   "metadata": {},
   "source": [
    "## Maths Operations"
   ]
  },
  {
   "cell_type": "code",
   "execution_count": null,
   "metadata": {},
   "outputs": [
    {
     "data": {
      "text/plain": [
       "<tf.Tensor: shape=(2,), dtype=float32, numpy=array([2.25, 3.25], dtype=float32)>"
      ]
     },
     "execution_count": 2,
     "metadata": {},
     "output_type": "execute_result"
    }
   ],
   "source": [
    "#math.abs= computes value of a tensor to absloute value\n",
    "abs_value = tf.constant([-2.25,3.25])\n",
    "tf.abs(abs_value)"
   ]
  },
  {
   "cell_type": "code",
   "execution_count": 5,
   "metadata": {},
   "outputs": [
    {
     "name": "stdout",
     "output_type": "stream",
     "text": [
      "tf.Tensor([7.34982993], shape=(1,), dtype=float64)\n",
      "tf.Tensor(7.34983, shape=(), dtype=float32)\n"
     ]
    }
   ],
   "source": [
    "# for complex \n",
    "abs_value_complex =tf.constant([-4.1+6.1j])\n",
    "print(tf.abs(abs_value_complex))\n",
    "print(tf.sqrt((-4.1)**2 + 6.1**2))\n"
   ]
  },
  {
   "cell_type": "code",
   "execution_count": null,
   "metadata": {},
   "outputs": [
    {
     "name": "stdout",
     "output_type": "stream",
     "text": [
      "tf.Tensor([ 1  4  9 16 25], shape=(5,), dtype=int32)\n",
      "tf.Tensor([1. 1. 1. 1. 1.], shape=(5,), dtype=float64)\n",
      "tf.Tensor([inf  1.  1. inf  1.], shape=(5,), dtype=float64)\n",
      "tf.Tensor([0. 1. 1. 0. 1.], shape=(5,), dtype=float64)\n"
     ]
    }
   ],
   "source": [
    "x_1 =tf.constant([1,2,3,4,5], dtype=tf.int32)\n",
    "x_2 =tf.constant([1,2,3,4,5], dtype=tf.int32)\n",
    "print(tf.multiply(x_1,x_2))\n",
    "print(tf.divide(x_1,x_2))\n",
    "#divide_no_nan = commputes a safe divide which returns 0 if y (denominator) is zero\n",
    "x_3= tf.constant([0,2,3,0,5], dtype=tf.int32)\n",
    "print(tf.divide(x_1,x_3))# it shows inf(infinite) where divided by zero\n",
    "print(tf.math.divide_no_nan(x_1,x_3)) # it will show 0"
   ]
  },
  {
   "cell_type": "code",
   "execution_count": 17,
   "metadata": {},
   "outputs": [
    {
     "name": "stdout",
     "output_type": "stream",
     "text": [
      "tf.Tensor([2 3 4 5 6], shape=(5,), dtype=int32)\n",
      "tf.Tensor([2 3 4 5 6], shape=(5,), dtype=int32)\n"
     ]
    }
   ],
   "source": [
    "# each will be added by the value  of y\n",
    "x =tf.constant([1,2,3,4,5], dtype=tf.int32)\n",
    "y =tf.constant([1], dtype=tf.int32) # we are doing stretch of x by 1\n",
    "y_1 =tf.constant([1,1,1,1,1], dtype=tf.int32)\n",
    "print(tf.math.add(x,y))\n",
    "print(tf.add(x,y_1))"
   ]
  },
  {
   "cell_type": "code",
   "execution_count": 15,
   "metadata": {},
   "outputs": [
    {
     "name": "stdout",
     "output_type": "stream",
     "text": [
      "tf.Tensor(\n",
      "[[ 2.  4.  6.  8. 10. 12.]\n",
      " [ 1.  2.  3.  4.  5.  6.]\n",
      " [10. 20. 30. 40. 50. 60.]], shape=(3, 6), dtype=float32)\n"
     ]
    }
   ],
   "source": [
    "x1= tf.constant([[1,2,3,4,5,6],], dtype=tf.float32)\n",
    "x2= tf.constant([[2],[1],[10]], dtype=tf.float32)\n",
    "print(tf.math.multiply(x1,x2))"
   ]
  },
  {
   "cell_type": "code",
   "execution_count": 19,
   "metadata": {},
   "outputs": [
    {
     "name": "stdout",
     "output_type": "stream",
     "text": [
      "tf.Tensor([1 2 3 0 5], shape=(5,), dtype=int32)\n"
     ]
    }
   ],
   "source": [
    "# maximum = returns the max of x and y (i.e. x>y ? x:y) element-wise\n",
    "x4 =tf.constant([1,2,3,4,5], dtype=tf.int32)\n",
    "x5 =tf.constant([1,2,3,0,5], dtype=tf.int32)\n",
    "print(tf.math.minimum(x4,x5))"
   ]
  },
  {
   "cell_type": "code",
   "execution_count": 20,
   "metadata": {},
   "outputs": [
    {
     "name": "stdout",
     "output_type": "stream",
     "text": [
      "tf.Tensor(4, shape=(), dtype=int64)\n",
      "tf.Tensor(3, shape=(), dtype=int64)\n"
     ]
    }
   ],
   "source": [
    "# argmax= returns the index with the largest value across axes of a tensor\n",
    "print(tf.math.argmax(x4))\n",
    "print(tf.math.argmin(x5))"
   ]
  },
  {
   "cell_type": "code",
   "execution_count": 23,
   "metadata": {},
   "outputs": [
    {
     "name": "stdout",
     "output_type": "stream",
     "text": [
      "tf.Tensor([2 1], shape=(2,), dtype=int64)\n",
      "tf.Tensor([1 1 0], shape=(3,), dtype=int64)\n"
     ]
    }
   ],
   "source": [
    "x = tf.constant([[1,4,20],\n",
    "                 [3,8,6]])\n",
    "print(tf.math.argmax(x, axis=1))\n",
    "print(tf.math.argmax(x, axis=0))"
   ]
  },
  {
   "cell_type": "code",
   "execution_count": 24,
   "metadata": {},
   "outputs": [
    {
     "data": {
      "text/plain": [
       "<tf.Tensor: shape=(2, 2), dtype=int32, numpy=\n",
       "array([[ 1,  1],\n",
       "       [ 3, 16]], dtype=int32)>"
      ]
     },
     "execution_count": 24,
     "metadata": {},
     "output_type": "execute_result"
    }
   ],
   "source": [
    "x=tf.constant([[1,2],[3,4]])\n",
    "y=tf.constant([[2,0],[1,2]])\n",
    "tf.pow(x,y)"
   ]
  },
  {
   "cell_type": "code",
   "execution_count": null,
   "metadata": {},
   "outputs": [
    {
     "name": "stdout",
     "output_type": "stream",
     "text": [
      "tf.Tensor(5, shape=(), dtype=int32)\n",
      "tf.Tensor(2, shape=(), dtype=int32)\n",
      "tf.Tensor([3 2], shape=(2,), dtype=int32)\n"
     ]
    }
   ],
   "source": [
    "#reduce_sum = commputes the sum of elements across dimensions of a tensor\n",
    "print(tf.math.reduce_sum(y,axis=None, keepdims=False, name=None))\n",
    "print(tf.math.reduce_max(y,axis=None, keepdims=False, name=None))\n",
    "print(tf.math.reduce_sum(y,axis=0, keepdims=False, name=None)) # axis= 0 column"
   ]
  },
  {
   "cell_type": "code",
   "execution_count": null,
   "metadata": {},
   "outputs": [
    {
     "data": {
      "text/plain": [
       "<tf.Tensor: shape=(2, 3), dtype=float32, numpy=\n",
       "array([[0.7310586 , 0.8807971 , 0.95257413],\n",
       "       [0.95257413, 0.9933072 , 0.99752736]], dtype=float32)>"
      ]
     },
     "execution_count": 31,
     "metadata": {},
     "output_type": "execute_result"
    }
   ],
   "source": [
    "#sigmoid = sigmoid(x)=y= 1/(1+exp(-x)) for xE (-inf,inf), sigmoid(x)E(0,1)\n",
    "x = tf.constant([[1, 2, 3],  \n",
    "                 [3, 5, 6]], dtype=tf.float32)\n",
    "tf.math.sigmoid(x)"
   ]
  },
  {
   "cell_type": "code",
   "execution_count": 34,
   "metadata": {},
   "outputs": [
    {
     "data": {
      "text/plain": [
       "TopKV2(values=<tf.Tensor: shape=(2, 2), dtype=float32, numpy=\n",
       "array([[12.,  3.],\n",
       "       [13.,  6.]], dtype=float32)>, indices=<tf.Tensor: shape=(2, 2), dtype=int32, numpy=\n",
       "array([[1, 2],\n",
       "       [0, 2]], dtype=int32)>)"
      ]
     },
     "execution_count": 34,
     "metadata": {},
     "output_type": "execute_result"
    }
   ],
   "source": [
    "# top_k = find values and indices of the k largest entries for the last dimension\n",
    "x0 = tf.constant([[1, 12, 3],  \n",
    "                 [13, 5, 6]], dtype=tf.float32)\n",
    "tf.math.top_k(\n",
    "    x0, k=2, sorted=True, name=None\n",
    ")"
   ]
  },
  {
   "cell_type": "markdown",
   "metadata": {},
   "source": [
    "## Linear ALgebra Operation"
   ]
  },
  {
   "cell_type": "markdown",
   "metadata": {},
   "source": []
  }
 ],
 "metadata": {
  "kernelspec": {
   "display_name": "cv_dl",
   "language": "python",
   "name": "python3"
  },
  "language_info": {
   "codemirror_mode": {
    "name": "ipython",
    "version": 3
   },
   "file_extension": ".py",
   "mimetype": "text/x-python",
   "name": "python",
   "nbconvert_exporter": "python",
   "pygments_lexer": "ipython3",
   "version": "3.10.16"
  }
 },
 "nbformat": 4,
 "nbformat_minor": 2
}
